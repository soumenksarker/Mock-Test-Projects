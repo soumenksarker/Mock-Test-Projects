{
  "nbformat": 4,
  "nbformat_minor": 0,
  "metadata": {
    "colab": {
      "name": "Data_Preprocessing_missing_values",
      "provenance": [],
      "collapsed_sections": []
    },
    "kernelspec": {
      "name": "python3",
      "display_name": "Python 3"
    },
    "language_info": {
      "name": "python"
    },
    "accelerator": "GPU"
  },
  "cells": [
    {
      "cell_type": "markdown",
      "metadata": {
        "id": "dy3PYSxlWk5N"
      },
      "source": [
        ""
      ]
    },
    {
      "cell_type": "code",
      "metadata": {
        "id": "-zT0lRgJUO-q",
        "colab": {
          "base_uri": "https://localhost:8080/"
        },
        "outputId": "0d7c9b62-83cc-4662-c575-d1ca1961449b"
      },
      "source": [
        "\n",
        "from google.colab import drive\n",
        "drive.mount('/content/drive/')"
      ],
      "execution_count": 1,
      "outputs": [
        {
          "output_type": "stream",
          "text": [
            "Mounted at /content/drive/\n"
          ],
          "name": "stdout"
        }
      ]
    },
    {
      "cell_type": "code",
      "metadata": {
        "id": "tlLaFBUSRpE3",
        "colab": {
          "base_uri": "https://localhost:8080/"
        },
        "outputId": "9dd065cc-1cf8-441d-bc75-f0399121fbd4"
      },
      "source": [
        "%cd /content/drive/My\\ Drive/"
      ],
      "execution_count": 2,
      "outputs": [
        {
          "output_type": "stream",
          "text": [
            "/content/drive/My Drive\n"
          ],
          "name": "stdout"
        }
      ]
    },
    {
      "cell_type": "code",
      "metadata": {
        "id": "s5m7LAxtUj--",
        "colab": {
          "base_uri": "https://localhost:8080/"
        },
        "outputId": "f26575df-a6fb-475b-b1ff-d534efe5061e"
      },
      "source": [
        "import pandas as pd\n",
        "import numpy as np\n",
        "import scipy.stats\n",
        "import matplotlib.pyplot as plt\n",
        "%matplotlib inline\n",
        "import seaborn as sns\n",
        "df = pd.read_csv('./Products.csv')\n",
        "print(df.head(5))\n",
        "dw=df.copy()\n",
        "n = dw.nunique(axis=0)\n",
        "print(n)"
      ],
      "execution_count": 3,
      "outputs": [
        {
          "output_type": "stream",
          "text": [
            "   Product Id Weight (kg) Length (m) Width (m) Height (m)\n",
            "0       44331       1.025     0.2286    0.1524     0.0508\n",
            "1       44352       0.504       0.14      0.04       0.16\n",
            "2       44373       0.488      0.105     0.105      0.075\n",
            "3       44394      1.0028       0.11      0.11       0.15\n",
            "4       44415        0.55       0.13      0.13       0.11\n",
            "Product Id     3058\n",
            "Weight (kg)     591\n",
            "Length (m)      142\n",
            "Width (m)       117\n",
            "Height (m)      162\n",
            "dtype: int64\n"
          ],
          "name": "stdout"
        }
      ]
    },
    {
      "cell_type": "code",
      "metadata": {
        "id": "lhVSeujXUmXK",
        "colab": {
          "base_uri": "https://localhost:8080/"
        },
        "outputId": "c88c8567-e196-4524-b89f-5b475ddad623"
      },
      "source": [
        "# let's inspect attribute/feature raw data types\n",
        "dw.dtypes"
      ],
      "execution_count": 4,
      "outputs": [
        {
          "output_type": "execute_result",
          "data": {
            "text/plain": [
              "Product Id      int64\n",
              "Weight (kg)    object\n",
              "Length (m)     object\n",
              "Width (m)      object\n",
              "Height (m)     object\n",
              "dtype: object"
            ]
          },
          "metadata": {
            "tags": []
          },
          "execution_count": 4
        }
      ]
    },
    {
      "cell_type": "code",
      "metadata": {
        "id": "j2jDJ9gpVIrD",
        "colab": {
          "base_uri": "https://localhost:8080/"
        },
        "outputId": "4e2e201f-d58f-487a-8612-9bc6dfa8106f"
      },
      "source": [
        "#is product_id unique\n",
        "dw['Product Id'].is_unique\n"
      ],
      "execution_count": 5,
      "outputs": [
        {
          "output_type": "execute_result",
          "data": {
            "text/plain": [
              "True"
            ]
          },
          "metadata": {
            "tags": []
          },
          "execution_count": 5
        }
      ]
    },
    {
      "cell_type": "code",
      "metadata": {
        "id": "xh64_EeV3t3F",
        "colab": {
          "base_uri": "https://localhost:8080/"
        },
        "outputId": "f7a1ee19-a389-44e2-c933-e8250346a071"
      },
      "source": [
        "#counting missing value in each column\n",
        "missing_values_count = dw.isnull().sum()\n",
        "print(missing_values_count)"
      ],
      "execution_count": 6,
      "outputs": [
        {
          "output_type": "stream",
          "text": [
            "Product Id     0\n",
            "Weight (kg)    4\n",
            "Length (m)     5\n",
            "Width (m)      2\n",
            "Height (m)     4\n",
            "dtype: int64\n"
          ],
          "name": "stdout"
        }
      ]
    },
    {
      "cell_type": "code",
      "metadata": {
        "id": "AurTFxXND-nL",
        "colab": {
          "base_uri": "https://localhost:8080/"
        },
        "outputId": "59e283e9-9bd2-4c13-bf13-05b6b1ebeb6e"
      },
      "source": [
        "\n",
        "id_nw=dw[dw['Weight (kg)'].isna()]\n",
        "id_nl=dw[dw['Length (m)'].isna()]\n",
        "id_nwe=dw[dw['Width (m)'].isna()]\n",
        "id_nh=dw[dw['Height (m)'].isna()]\n",
        "Id_N=list(id_nw['Product Id'].values)+list(id_nl['Product Id'].values)+list(id_nwe['Product Id'].values)+list(id_nh['Product Id'].values)\n",
        "print('Product Id containg NaN values')\n",
        "print(Id_N)\n",
        "print()\n",
        "\n",
        "print('row/record values contaning nan values')\n",
        "print(dw[dw.isna().sum(axis=1)>0])"
      ],
      "execution_count": 7,
      "outputs": [
        {
          "output_type": "stream",
          "text": [
            "Product Id containg NaN values\n",
            "[45024, 46893, 48279, 53235, 45297, 50295, 50316, 51744, 55923, 49287, 57225, 46305, 47628, 52332, 128520]\n",
            "\n",
            "row/record values contaning nan values\n",
            "      Product Id Weight (kg) Length (m) Width (m) Height (m)\n",
            "33         45024         NaN     0.1143    0.2286     0.0762\n",
            "46         45297       0.022        NaN      0.16       0.07\n",
            "94         46305       1.004       0.26      0.19        NaN\n",
            "122        46893         NaN       0.16      0.12       0.03\n",
            "157        47628       0.144       0.06      0.05        NaN\n",
            "188        48279         NaN       0.14      0.09     0.1524\n",
            "236        49287       0.278       0.13       NaN       0.13\n",
            "284        50295           0        NaN         0          0\n",
            "285        50316       0.005        NaN      0.09       0.03\n",
            "353        51744           0        NaN         0          0\n",
            "381        52332         1.9        0.1       0.1        NaN\n",
            "424        53235         NaN       0.08      0.08      0.102\n",
            "552        55923       0.012        NaN      0.01       0.02\n",
            "614        57225       0.766       0.22       NaN       0.02\n",
            "3019      128520       0.454       0.07      0.04        NaN\n"
          ],
          "name": "stdout"
        }
      ]
    },
    {
      "cell_type": "code",
      "metadata": {
        "id": "mWafW6Wmnv35",
        "colab": {
          "base_uri": "https://localhost:8080/"
        },
        "outputId": "0f5ae71b-7a2a-4551-da76-b5714d608fba"
      },
      "source": [
        "#Finding the product_Id with wrongly inputted string\n",
        "s=[]\n",
        "Id=[]\n",
        "def find_of(ss):\n",
        "  l=[]\n",
        "  id=[]\n",
        "  for i in range(1,3058):\n",
        "    if dw[ss][i]:\n",
        "      try:\n",
        "        dw[ss][i]=float( dw[ss][i])\n",
        "      except ValueError:\n",
        "        #print (\"error on line\",i)\n",
        "        l.append(dw[ss][i])\n",
        "        id.append(dw['Product Id'][i])\n",
        "        #print(df['Length (m)'].iloc[[i]])\n",
        "  return [l, id]\n",
        "p=find_of('Weight (kg)')\n",
        "q=find_of('Length (m)')\n",
        "r=find_of('Width (m)')\n",
        "t=find_of('Height (m)')\n",
        "s=p[0]+q[0]+r[0]+t[0]\n",
        "\n",
        "Id=p[1]+q[1]+r[1]+t[1]\n",
        "print('list of wrongly inputted string')\n",
        "print(s)\n",
        "print()\n",
        "print('product id with wrongly inputted string')\n",
        "print(Id)\n",
        "print('total',len(Id))"
      ],
      "execution_count": 8,
      "outputs": [
        {
          "output_type": "stream",
          "text": [
            "/usr/local/lib/python3.7/dist-packages/ipykernel_launcher.py:10: SettingWithCopyWarning: \n",
            "A value is trying to be set on a copy of a slice from a DataFrame\n",
            "\n",
            "See the caveats in the documentation: https://pandas.pydata.org/pandas-docs/stable/user_guide/indexing.html#returning-a-view-versus-a-copy\n",
            "  # Remove the CWD from sys.path while we load stuff.\n"
          ],
          "name": "stderr"
        },
        {
          "output_type": "stream",
          "text": [
            "list of wrongly inputted string\n",
            "['aa', 'gg', '@', ')', '?', '?', 'ee', 'ee', 'gg', '(', '.', '[', 'dd', 'jj', '!!', '%', '^', '.', '“', 'ss', '&', '*', '|']\n",
            "\n",
            "product id with wrongly inputted string\n",
            "[58422, 65226, 68691, 76524, 77301, 80073, 60312, 62370, 63483, 74634, 82110, 89208, 59598, 65919, 67956, 70203, 73101, 80640, 84000, 59199, 71169, 72177, 85197]\n",
            "total 23\n"
          ],
          "name": "stdout"
        }
      ]
    },
    {
      "cell_type": "code",
      "metadata": {
        "id": "45f97eJgs1_a"
      },
      "source": [
        "#here\n",
        "#wrongly inputted string and alphnumeric charaters are na_values\n",
        "df1 = pd.read_csv('./Products.csv', na_values=s)"
      ],
      "execution_count": 9,
      "outputs": []
    },
    {
      "cell_type": "code",
      "metadata": {
        "id": "myf7vAmJtI-A",
        "colab": {
          "base_uri": "https://localhost:8080/"
        },
        "outputId": "a6b86b22-8b25-4bcc-c902-7415d69e9b96"
      },
      "source": [
        "print('missing value before detecting wrong string')\n",
        "missing_values_count = dw.isnull().sum()\n",
        "print(missing_values_count)\n",
        "print()\n",
        "print('wrong string is now na_values')\n",
        "db=df1.copy()\n",
        "missing_values_count = db.isnull().sum()\n",
        "print(missing_values_count)"
      ],
      "execution_count": 10,
      "outputs": [
        {
          "output_type": "stream",
          "text": [
            "missing value before detecting wrong string\n",
            "Product Id     0\n",
            "Weight (kg)    4\n",
            "Length (m)     5\n",
            "Width (m)      2\n",
            "Height (m)     4\n",
            "dtype: int64\n",
            "\n",
            "wrong string is now na_values\n",
            "Product Id      0\n",
            "Weight (kg)    10\n",
            "Length (m)     11\n",
            "Width (m)       9\n",
            "Height (m)      8\n",
            "dtype: int64\n"
          ],
          "name": "stdout"
        }
      ]
    },
    {
      "cell_type": "code",
      "metadata": {
        "id": "XC0QuEKxwRfp",
        "colab": {
          "base_uri": "https://localhost:8080/",
          "height": 297
        },
        "outputId": "9af7688c-a5b8-4063-a00d-48b0b16f8f2a"
      },
      "source": [
        "#so we've 15 null values and 23 wrong value\n",
        "#primarily 38 missing values\n",
        "#convert data in numeric format\n",
        "fd=db[['Product Id','Weight (kg)', 'Length (m)', 'Width (m)', 'Height (m)']].apply(pd.to_numeric, errors='coerce')\n",
        "fd.describe() #inspect descrptive statistics"
      ],
      "execution_count": 11,
      "outputs": [
        {
          "output_type": "execute_result",
          "data": {
            "text/html": [
              "<div>\n",
              "<style scoped>\n",
              "    .dataframe tbody tr th:only-of-type {\n",
              "        vertical-align: middle;\n",
              "    }\n",
              "\n",
              "    .dataframe tbody tr th {\n",
              "        vertical-align: top;\n",
              "    }\n",
              "\n",
              "    .dataframe thead th {\n",
              "        text-align: right;\n",
              "    }\n",
              "</style>\n",
              "<table border=\"1\" class=\"dataframe\">\n",
              "  <thead>\n",
              "    <tr style=\"text-align: right;\">\n",
              "      <th></th>\n",
              "      <th>Product Id</th>\n",
              "      <th>Weight (kg)</th>\n",
              "      <th>Length (m)</th>\n",
              "      <th>Width (m)</th>\n",
              "      <th>Height (m)</th>\n",
              "    </tr>\n",
              "  </thead>\n",
              "  <tbody>\n",
              "    <tr>\n",
              "      <th>count</th>\n",
              "      <td>3058.000000</td>\n",
              "      <td>3048.000000</td>\n",
              "      <td>3047.000000</td>\n",
              "      <td>3049.000000</td>\n",
              "      <td>3050.000000</td>\n",
              "    </tr>\n",
              "    <tr>\n",
              "      <th>mean</th>\n",
              "      <td>80284.284173</td>\n",
              "      <td>0.237837</td>\n",
              "      <td>0.135951</td>\n",
              "      <td>0.049192</td>\n",
              "      <td>0.067205</td>\n",
              "    </tr>\n",
              "    <tr>\n",
              "      <th>std</th>\n",
              "      <td>24714.197188</td>\n",
              "      <td>0.639705</td>\n",
              "      <td>3.558942</td>\n",
              "      <td>0.225342</td>\n",
              "      <td>0.219667</td>\n",
              "    </tr>\n",
              "    <tr>\n",
              "      <th>min</th>\n",
              "      <td>44331.000000</td>\n",
              "      <td>0.000000</td>\n",
              "      <td>0.000000</td>\n",
              "      <td>0.000000</td>\n",
              "      <td>0.000000</td>\n",
              "    </tr>\n",
              "    <tr>\n",
              "      <th>25%</th>\n",
              "      <td>60380.250000</td>\n",
              "      <td>0.000000</td>\n",
              "      <td>0.000000</td>\n",
              "      <td>0.000000</td>\n",
              "      <td>0.000000</td>\n",
              "    </tr>\n",
              "    <tr>\n",
              "      <th>50%</th>\n",
              "      <td>76429.500000</td>\n",
              "      <td>0.005750</td>\n",
              "      <td>0.010000</td>\n",
              "      <td>0.001000</td>\n",
              "      <td>0.005500</td>\n",
              "    </tr>\n",
              "    <tr>\n",
              "      <th>75%</th>\n",
              "      <td>92478.750000</td>\n",
              "      <td>0.256000</td>\n",
              "      <td>0.105000</td>\n",
              "      <td>0.075000</td>\n",
              "      <td>0.115000</td>\n",
              "    </tr>\n",
              "    <tr>\n",
              "      <th>max</th>\n",
              "      <td>129318.000000</td>\n",
              "      <td>10.070000</td>\n",
              "      <td>195.000000</td>\n",
              "      <td>12.000000</td>\n",
              "      <td>11.050000</td>\n",
              "    </tr>\n",
              "  </tbody>\n",
              "</table>\n",
              "</div>"
            ],
            "text/plain": [
              "          Product Id  Weight (kg)   Length (m)    Width (m)   Height (m)\n",
              "count    3058.000000  3048.000000  3047.000000  3049.000000  3050.000000\n",
              "mean    80284.284173     0.237837     0.135951     0.049192     0.067205\n",
              "std     24714.197188     0.639705     3.558942     0.225342     0.219667\n",
              "min     44331.000000     0.000000     0.000000     0.000000     0.000000\n",
              "25%     60380.250000     0.000000     0.000000     0.000000     0.000000\n",
              "50%     76429.500000     0.005750     0.010000     0.001000     0.005500\n",
              "75%     92478.750000     0.256000     0.105000     0.075000     0.115000\n",
              "max    129318.000000    10.070000   195.000000    12.000000    11.050000"
            ]
          },
          "metadata": {
            "tags": []
          },
          "execution_count": 11
        }
      ]
    },
    {
      "cell_type": "markdown",
      "metadata": {
        "id": "R5ZJUX19gUP9"
      },
      "source": [
        "\n",
        "\n",
        "```\n",
        "#observation\n",
        "#1st to 3rd quartile(25%-75%) range is much smaller than max value\n",
        "#have some anomaly/outliers\n",
        "#RobustScaler can penalize outliers\n",
        "#increase value from zero reveals positive skewed distribution\n",
        "#actual mean is higher than median\n",
        "#data can't be normally tested\n",
        "#thus imputaion by median could be applied, 'knn' is the \n",
        "#better option for impute small number of missing data points\n",
        "\n",
        "```"
      ]
    },
    {
      "cell_type": "code",
      "metadata": {
        "id": "WhysUwQDfiBU",
        "colab": {
          "base_uri": "https://localhost:8080/"
        },
        "outputId": "7578d0fc-08d3-4297-b370-e27aeff4c323"
      },
      "source": [
        "#let's impute 38 missing values with knn\n",
        "from sklearn.impute import KNNImputer\n",
        "\n",
        "print('missing_value before imputation')\n",
        "missing_values_count = fd.isnull().sum()\n",
        "print(missing_values_count)\n",
        "imputer = KNNImputer(n_neighbors= 5)\n",
        "impute_with_5 = imputer.fit_transform(fd[['Weight (kg)', 'Length (m)', 'Width (m)', 'Height (m)']])\n",
        "print(\"\\nImpute with 5 Neighbour: \\n\", impute_with_5)\n",
        "\n",
        "\n",
        "imputer = KNNImputer(n_neighbors= 4)\n",
        "impute_with_4 = imputer.fit_transform(fd[['Weight (kg)', 'Length (m)', 'Width (m)', 'Height (m)']])\n",
        "\n",
        "print(\"\\n Impute with 4 Neighbours: \\n\", impute_with_4)\n",
        "print()\n",
        "\n",
        "nd=impute_with_5.copy() \n",
        "nd=pd.DataFrame(nd) #knn imputed dataset\n",
        "nd.columns=['Weight (kg)', 'Length (m)', 'Width (m)', 'Height (m)']\n",
        "\n",
        "print('missing value after imputation')\n",
        "print(nd.isnull().sum())"
      ],
      "execution_count": 12,
      "outputs": [
        {
          "output_type": "stream",
          "text": [
            "missing_value before imputation\n",
            "Product Id      0\n",
            "Weight (kg)    10\n",
            "Length (m)     11\n",
            "Width (m)       9\n",
            "Height (m)      8\n",
            "dtype: int64\n",
            "\n",
            "Impute with 5 Neighbour: \n",
            " [[1.025  0.2286 0.1524 0.0508]\n",
            " [0.504  0.14   0.04   0.16  ]\n",
            " [0.488  0.105  0.105  0.075 ]\n",
            " ...\n",
            " [0.3    0.06   0.042  0.195 ]\n",
            " [0.     0.     0.     0.    ]\n",
            " [0.798  0.115  0.05   0.235 ]]\n",
            "\n",
            " Impute with 4 Neighbours: \n",
            " [[1.025  0.2286 0.1524 0.0508]\n",
            " [0.504  0.14   0.04   0.16  ]\n",
            " [0.488  0.105  0.105  0.075 ]\n",
            " ...\n",
            " [0.3    0.06   0.042  0.195 ]\n",
            " [0.     0.     0.     0.    ]\n",
            " [0.798  0.115  0.05   0.235 ]]\n",
            "\n",
            "missing value after imputation\n",
            "Weight (kg)    0\n",
            "Length (m)     0\n",
            "Width (m)      0\n",
            "Height (m)     0\n",
            "dtype: int64\n"
          ],
          "name": "stdout"
        }
      ]
    },
    {
      "cell_type": "code",
      "metadata": {
        "id": "X-gh-hR90CoW",
        "colab": {
          "base_uri": "https://localhost:8080/"
        },
        "outputId": "7d5fbb04-a221-4ca0-f2d8-bcd25632cc05"
      },
      "source": [
        "\n",
        "md=fd.copy()\n",
        "kd=fd.copy()\n",
        "bd=md[md.isna().sum(axis=1)>0]\n",
        "print('before any imputation')\n",
        "print(bd)\n",
        "print()\n",
        "\n",
        "#impute with median\n",
        "md=md.fillna(md.median())\n",
        "print('After median imputation')\n",
        "ll=list(bd.index)\n",
        "ij=0\n",
        "cols=[1, 2, 3, 4]\n",
        "for i in ll:\n",
        "    print(i,' ', md.iloc[i, cols ])\n",
        "    print()\n",
        "\n",
        "  \n",
        "\n"
      ],
      "execution_count": 13,
      "outputs": [
        {
          "output_type": "stream",
          "text": [
            "before any imputation\n",
            "      Product Id  Weight (kg)  Length (m)  Width (m)  Height (m)\n",
            "33         45024          NaN      0.1143     0.2286      0.0762\n",
            "46         45297        0.022         NaN     0.1600      0.0700\n",
            "94         46305        1.004      0.2600     0.1900         NaN\n",
            "122        46893          NaN      0.1600     0.1200      0.0300\n",
            "157        47628        0.144      0.0600     0.0500         NaN\n",
            "188        48279          NaN      0.1400     0.0900      0.1524\n",
            "236        49287        0.278      0.1300        NaN      0.1300\n",
            "284        50295        0.000         NaN     0.0000      0.0000\n",
            "285        50316        0.005         NaN     0.0900      0.0300\n",
            "353        51744        0.000         NaN     0.0000      0.0000\n",
            "381        52332        1.900      0.1000     0.1000         NaN\n",
            "424        53235          NaN      0.0800     0.0800      0.1020\n",
            "552        55923        0.012         NaN     0.0100      0.0200\n",
            "614        57225        0.766      0.2200        NaN      0.0200\n",
            "671        58422          NaN      0.0900     0.0900      0.0500\n",
            "708        59199        0.072      0.1350     0.0650         NaN\n",
            "727        59598        0.130      0.0600        NaN      0.1400\n",
            "761        60312        1.480         NaN     0.0800      0.2900\n",
            "859        62370        1.100         NaN     0.1200      0.2800\n",
            "912        63483        0.392         NaN     0.0450      0.2150\n",
            "995        65226          NaN      0.0600     0.0600      0.1300\n",
            "1028       65919        0.404      0.1300        NaN      0.0600\n",
            "1125       67956        0.534      0.1550        NaN      0.0800\n",
            "1160       68691          NaN      0.0750     0.0750      0.1500\n",
            "1232       70203        0.368      0.1400        NaN      0.1800\n",
            "1278       71169        1.060      0.0800     0.0800         NaN\n",
            "1326       72177        0.100      0.1600     0.1250         NaN\n",
            "1370       73101        0.102      0.1250        NaN      0.0900\n",
            "1443       74634        0.600         NaN     0.0620      0.2200\n",
            "1533       76524          NaN      0.1950     0.0550      0.2500\n",
            "1570       77301          NaN      0.2100     0.1100      0.0100\n",
            "1702       80073          NaN      0.0900     0.0900      0.1600\n",
            "1729       80640        0.380      0.0800        NaN      0.1600\n",
            "1799       82110        0.147         NaN     0.1150      0.0450\n",
            "1889       84000        0.201      0.2000        NaN      0.2600\n",
            "1946       85197        0.780      0.0900     0.0900         NaN\n",
            "2137       89208        0.810         NaN     0.1651      0.0762\n",
            "3019      128520        0.454      0.0700     0.0400         NaN\n",
            "\n",
            "After median imputation\n",
            "33   Weight (kg)    0.00575\n",
            "Length (m)     0.11430\n",
            "Width (m)      0.22860\n",
            "Height (m)     0.07620\n",
            "Name: 33, dtype: float64\n",
            "\n",
            "46   Weight (kg)    0.022\n",
            "Length (m)     0.010\n",
            "Width (m)      0.160\n",
            "Height (m)     0.070\n",
            "Name: 46, dtype: float64\n",
            "\n",
            "94   Weight (kg)    1.0040\n",
            "Length (m)     0.2600\n",
            "Width (m)      0.1900\n",
            "Height (m)     0.0055\n",
            "Name: 94, dtype: float64\n",
            "\n",
            "122   Weight (kg)    0.00575\n",
            "Length (m)     0.16000\n",
            "Width (m)      0.12000\n",
            "Height (m)     0.03000\n",
            "Name: 122, dtype: float64\n",
            "\n",
            "157   Weight (kg)    0.1440\n",
            "Length (m)     0.0600\n",
            "Width (m)      0.0500\n",
            "Height (m)     0.0055\n",
            "Name: 157, dtype: float64\n",
            "\n",
            "188   Weight (kg)    0.00575\n",
            "Length (m)     0.14000\n",
            "Width (m)      0.09000\n",
            "Height (m)     0.15240\n",
            "Name: 188, dtype: float64\n",
            "\n",
            "236   Weight (kg)    0.278\n",
            "Length (m)     0.130\n",
            "Width (m)      0.001\n",
            "Height (m)     0.130\n",
            "Name: 236, dtype: float64\n",
            "\n",
            "284   Weight (kg)    0.00\n",
            "Length (m)     0.01\n",
            "Width (m)      0.00\n",
            "Height (m)     0.00\n",
            "Name: 284, dtype: float64\n",
            "\n",
            "285   Weight (kg)    0.005\n",
            "Length (m)     0.010\n",
            "Width (m)      0.090\n",
            "Height (m)     0.030\n",
            "Name: 285, dtype: float64\n",
            "\n",
            "353   Weight (kg)    0.00\n",
            "Length (m)     0.01\n",
            "Width (m)      0.00\n",
            "Height (m)     0.00\n",
            "Name: 353, dtype: float64\n",
            "\n",
            "381   Weight (kg)    1.9000\n",
            "Length (m)     0.1000\n",
            "Width (m)      0.1000\n",
            "Height (m)     0.0055\n",
            "Name: 381, dtype: float64\n",
            "\n",
            "424   Weight (kg)    0.00575\n",
            "Length (m)     0.08000\n",
            "Width (m)      0.08000\n",
            "Height (m)     0.10200\n",
            "Name: 424, dtype: float64\n",
            "\n",
            "552   Weight (kg)    0.012\n",
            "Length (m)     0.010\n",
            "Width (m)      0.010\n",
            "Height (m)     0.020\n",
            "Name: 552, dtype: float64\n",
            "\n",
            "614   Weight (kg)    0.766\n",
            "Length (m)     0.220\n",
            "Width (m)      0.001\n",
            "Height (m)     0.020\n",
            "Name: 614, dtype: float64\n",
            "\n",
            "671   Weight (kg)    0.00575\n",
            "Length (m)     0.09000\n",
            "Width (m)      0.09000\n",
            "Height (m)     0.05000\n",
            "Name: 671, dtype: float64\n",
            "\n",
            "708   Weight (kg)    0.0720\n",
            "Length (m)     0.1350\n",
            "Width (m)      0.0650\n",
            "Height (m)     0.0055\n",
            "Name: 708, dtype: float64\n",
            "\n",
            "727   Weight (kg)    0.130\n",
            "Length (m)     0.060\n",
            "Width (m)      0.001\n",
            "Height (m)     0.140\n",
            "Name: 727, dtype: float64\n",
            "\n",
            "761   Weight (kg)    1.48\n",
            "Length (m)     0.01\n",
            "Width (m)      0.08\n",
            "Height (m)     0.29\n",
            "Name: 761, dtype: float64\n",
            "\n",
            "859   Weight (kg)    1.10\n",
            "Length (m)     0.01\n",
            "Width (m)      0.12\n",
            "Height (m)     0.28\n",
            "Name: 859, dtype: float64\n",
            "\n",
            "912   Weight (kg)    0.392\n",
            "Length (m)     0.010\n",
            "Width (m)      0.045\n",
            "Height (m)     0.215\n",
            "Name: 912, dtype: float64\n",
            "\n",
            "995   Weight (kg)    0.00575\n",
            "Length (m)     0.06000\n",
            "Width (m)      0.06000\n",
            "Height (m)     0.13000\n",
            "Name: 995, dtype: float64\n",
            "\n",
            "1028   Weight (kg)    0.404\n",
            "Length (m)     0.130\n",
            "Width (m)      0.001\n",
            "Height (m)     0.060\n",
            "Name: 1028, dtype: float64\n",
            "\n",
            "1125   Weight (kg)    0.534\n",
            "Length (m)     0.155\n",
            "Width (m)      0.001\n",
            "Height (m)     0.080\n",
            "Name: 1125, dtype: float64\n",
            "\n",
            "1160   Weight (kg)    0.00575\n",
            "Length (m)     0.07500\n",
            "Width (m)      0.07500\n",
            "Height (m)     0.15000\n",
            "Name: 1160, dtype: float64\n",
            "\n",
            "1232   Weight (kg)    0.368\n",
            "Length (m)     0.140\n",
            "Width (m)      0.001\n",
            "Height (m)     0.180\n",
            "Name: 1232, dtype: float64\n",
            "\n",
            "1278   Weight (kg)    1.0600\n",
            "Length (m)     0.0800\n",
            "Width (m)      0.0800\n",
            "Height (m)     0.0055\n",
            "Name: 1278, dtype: float64\n",
            "\n",
            "1326   Weight (kg)    0.1000\n",
            "Length (m)     0.1600\n",
            "Width (m)      0.1250\n",
            "Height (m)     0.0055\n",
            "Name: 1326, dtype: float64\n",
            "\n",
            "1370   Weight (kg)    0.102\n",
            "Length (m)     0.125\n",
            "Width (m)      0.001\n",
            "Height (m)     0.090\n",
            "Name: 1370, dtype: float64\n",
            "\n",
            "1443   Weight (kg)    0.600\n",
            "Length (m)     0.010\n",
            "Width (m)      0.062\n",
            "Height (m)     0.220\n",
            "Name: 1443, dtype: float64\n",
            "\n",
            "1533   Weight (kg)    0.00575\n",
            "Length (m)     0.19500\n",
            "Width (m)      0.05500\n",
            "Height (m)     0.25000\n",
            "Name: 1533, dtype: float64\n",
            "\n",
            "1570   Weight (kg)    0.00575\n",
            "Length (m)     0.21000\n",
            "Width (m)      0.11000\n",
            "Height (m)     0.01000\n",
            "Name: 1570, dtype: float64\n",
            "\n",
            "1702   Weight (kg)    0.00575\n",
            "Length (m)     0.09000\n",
            "Width (m)      0.09000\n",
            "Height (m)     0.16000\n",
            "Name: 1702, dtype: float64\n",
            "\n",
            "1729   Weight (kg)    0.380\n",
            "Length (m)     0.080\n",
            "Width (m)      0.001\n",
            "Height (m)     0.160\n",
            "Name: 1729, dtype: float64\n",
            "\n",
            "1799   Weight (kg)    0.147\n",
            "Length (m)     0.010\n",
            "Width (m)      0.115\n",
            "Height (m)     0.045\n",
            "Name: 1799, dtype: float64\n",
            "\n",
            "1889   Weight (kg)    0.201\n",
            "Length (m)     0.200\n",
            "Width (m)      0.001\n",
            "Height (m)     0.260\n",
            "Name: 1889, dtype: float64\n",
            "\n",
            "1946   Weight (kg)    0.7800\n",
            "Length (m)     0.0900\n",
            "Width (m)      0.0900\n",
            "Height (m)     0.0055\n",
            "Name: 1946, dtype: float64\n",
            "\n",
            "2137   Weight (kg)    0.8100\n",
            "Length (m)     0.0100\n",
            "Width (m)      0.1651\n",
            "Height (m)     0.0762\n",
            "Name: 2137, dtype: float64\n",
            "\n",
            "3019   Weight (kg)    0.4540\n",
            "Length (m)     0.0700\n",
            "Width (m)      0.0400\n",
            "Height (m)     0.0055\n",
            "Name: 3019, dtype: float64\n",
            "\n"
          ],
          "name": "stdout"
        }
      ]
    },
    {
      "cell_type": "code",
      "metadata": {
        "id": "SEeYaXUAZMZb",
        "colab": {
          "base_uri": "https://localhost:8080/",
          "height": 902
        },
        "outputId": "67ffa866-b7f4-47cc-b011-a6449779d090"
      },
      "source": [
        "#let's visualize the data\n",
        "#Positive skewed, mean is higher\n",
        "#have some outliers\n",
        "#Though data is not normal we test it find in scale\n",
        "\n",
        "from scipy.stats import norm\n",
        "# Fit a normal distribution to the Weight column:\n",
        "mu, std = norm.fit(md['Weight (kg)'])\n",
        "print(mu, std)\n",
        "# Plot the histogram.\n",
        "plt.hist(md['Weight (kg)'], bins=10, density=True, alpha=0.5)\n",
        "plt.show()\n",
        "\n",
        "plt.figure(figsize=(5,5))\n",
        "md['Weight (kg)'].plot(kind='density')\n",
        "fig = plt.figure(figsize =(5, 5))\n",
        "# Creating plot\n",
        "plt.boxplot(md['Weight (kg)'])  \n",
        "# show plot\n",
        "plt.xlabel('Weight (kg)')\n",
        "plt.show()"
      ],
      "execution_count": 14,
      "outputs": [
        {
          "output_type": "stream",
          "text": [
            "0.23707815565729234 0.6386904395599513\n"
          ],
          "name": "stdout"
        },
        {
          "output_type": "display_data",
          "data": {
            "image/png": "[encoded data removed]",
            "text/plain": [
              "<Figure size 432x288 with 1 Axes>"
            ]
          },
          "metadata": {
            "tags": [],
            "needs_background": "light"
          }
        },
        {
          "output_type": "display_data",
          "data": {
            "image/png": "[encoded data removed]",
            "text/plain": [
              "<Figure size 360x360 with 1 Axes>"
            ]
          },
          "metadata": {
            "tags": [],
            "needs_background": "light"
          }
        },
        {
          "output_type": "display_data",
          "data": {
            "image/png": "[encoded data removed]",
            "text/plain": [
              "<Figure size 360x360 with 1 Axes>"
            ]
          },
          "metadata": {
            "tags": [],
            "needs_background": "light"
          }
        }
      ]
    },
    {
      "cell_type": "code",
      "metadata": {
        "id": "Qmf7Jv5MZ4mK",
        "colab": {
          "base_uri": "https://localhost:8080/",
          "height": 902
        },
        "outputId": "ab8cae65-a813-47df-b78b-99ebbb742dc3"
      },
      "source": [
        "# Fit a normal distribution to the Length:\n",
        "#high std, data is dispersed \n",
        "#has extrem outlier\n",
        "mu, std = norm.fit(md['Length (m)'])\n",
        "print(mu, std)\n",
        "# Plot the histogram.\n",
        "plt.hist(md['Length (m)'], bins=10, density=True, alpha=0.5)\n",
        "plt.show()\n",
        "plt.figure(figsize=(5,5))\n",
        "md['Length (m)'].plot(kind='density')\n",
        "fig = plt.figure(figsize =(5, 5))\n",
        "# Creating plot\n",
        "plt.boxplot(md['Length (m)'])\n",
        "# show plot\n",
        "plt.xlabel('Length (m)')\n",
        "plt.show()"
      ],
      "execution_count": 15,
      "outputs": [
        {
          "output_type": "stream",
          "text": [
            "0.13549780902550687 3.551959785293534\n"
          ],
          "name": "stdout"
        },
        {
          "output_type": "display_data",
          "data": {
            "image/png": "[encoded data removed]",
            "text/plain": [
              "<Figure size 432x288 with 1 Axes>"
            ]
          },
          "metadata": {
            "tags": [],
            "needs_background": "light"
          }
        },
        {
          "output_type": "display_data",
          "data": {
            "image/png": "[encoded data removed]",
            "text/plain": [
              "<Figure size 360x360 with 1 Axes>"
            ]
          },
          "metadata": {
            "tags": [],
            "needs_background": "light"
          }
        },
        {
          "output_type": "display_data",
          "data": {
            "image/png": "[encoded data removed]",
            "text/plain": [
              "<Figure size 360x360 with 1 Axes>"
            ]
          },
          "metadata": {
            "tags": [],
            "needs_background": "light"
          }
        }
      ]
    },
    {
      "cell_type": "code",
      "metadata": {
        "id": "CFEwrQyhaarR",
        "colab": {
          "base_uri": "https://localhost:8080/",
          "height": 902
        },
        "outputId": "0809b9cb-7432-42f3-8859-7ae6cfbcd9e3"
      },
      "source": [
        "# Fit a normal distribution to the Width:\n",
        "#high std, data is dispersed \n",
        "#has extrem outlier\n",
        "mu, std = norm.fit(md['Width (m)'])\n",
        "print(mu, std)\n",
        "# Plot the histogram.\n",
        "plt.hist(md['Width (m)'], bins=10, density=True, alpha=0.5)\n",
        "plt.show()\n",
        "plt.figure(figsize=(5,5))\n",
        "md['Width (m)'].plot(kind='density')\n",
        "fig = plt.figure(figsize =(5, 5))\n",
        "# Creating plot\n",
        "plt.boxplot(md['Width (m)'])\n",
        "plt.xlabel('Width (m)')\n",
        "# show plot\n",
        "plt.show()"
      ],
      "execution_count": 16,
      "outputs": [
        {
          "output_type": "stream",
          "text": [
            "0.049049967298888164 0.22498880316955042\n"
          ],
          "name": "stdout"
        },
        {
          "output_type": "display_data",
          "data": {
            "image/png": "[encoded data removed]",
            "text/plain": [
              "<Figure size 432x288 with 1 Axes>"
            ]
          },
          "metadata": {
            "tags": [],
            "needs_background": "light"
          }
        },
        {
          "output_type": "display_data",
          "data": {
            "image/png": "[encoded data removed]",
            "text/plain": [
              "<Figure size 360x360 with 1 Axes>"
            ]
          },
          "metadata": {
            "tags": [],
            "needs_background": "light"
          }
        },
        {
          "output_type": "display_data",
          "data": {
            "image/png": "[encoded data removed]",
            "text/plain": [
              "<Figure size 360x360 with 1 Axes>"
            ]
          },
          "metadata": {
            "tags": [],
            "needs_background": "light"
          }
        }
      ]
    },
    {
      "cell_type": "code",
      "metadata": {
        "id": "q3uV6tY3alUP",
        "colab": {
          "base_uri": "https://localhost:8080/",
          "height": 902
        },
        "outputId": "af7d2375-cde9-4d44-fbe1-7282cda59770"
      },
      "source": [
        "# Fit a normal distribution to the Height:\n",
        "#high std, data is dispersed \n",
        "#has extrem outlier\n",
        "mu, std = norm.fit(md['Height (m)'])\n",
        "print(mu, std)\n",
        "# Plot the histogram.\n",
        "plt.hist(md['Height (m)'], bins=10, density=True, alpha=0.5)\n",
        "plt.show()\n",
        "\n",
        "plt.figure(figsize=(5,5))\n",
        "md['Height (m)'].plot(kind='density')\n",
        "\n",
        "fig = plt.figure(figsize =(5, 5))\n",
        "# Creating plot\n",
        "plt.boxplot(md['Height (m)'])\n",
        "# show plot\n",
        "plt.xlabel('Height (m)')\n",
        "plt.show()"
      ],
      "execution_count": 17,
      "outputs": [
        {
          "output_type": "stream",
          "text": [
            "0.0670438521909745 0.21936650830769408\n"
          ],
          "name": "stdout"
        },
        {
          "output_type": "display_data",
          "data": {
            "image/png": "[encoded data removed]",
            "text/plain": [
              "<Figure size 432x288 with 1 Axes>"
            ]
          },
          "metadata": {
            "tags": [],
            "needs_background": "light"
          }
        },
        {
          "output_type": "display_data",
          "data": {
            "image/png": "[encoded data removed]",
            "text/plain": [
              "<Figure size 360x360 with 1 Axes>"
            ]
          },
          "metadata": {
            "tags": [],
            "needs_background": "light"
          }
        },
        {
          "output_type": "display_data",
          "data": {
            "image/png": "[encoded data removed]",
            "text/plain": [
              "<Figure size 360x360 with 1 Axes>"
            ]
          },
          "metadata": {
            "tags": [],
            "needs_background": "light"
          }
        }
      ]
    },
    {
      "cell_type": "code",
      "metadata": {
        "id": "iIqLzKZGdoiq",
        "colab": {
          "base_uri": "https://localhost:8080/",
          "height": 689
        },
        "outputId": "7df24f8a-c305-4505-dbfc-653d8b4c44de"
      },
      "source": [
        "\n",
        "plt.scatter(md['Width (m)'], md['Height (m)'])\n",
        "plt.show()\n",
        "\n",
        "#very strong relationship\n",
        "sns.jointplot(x =md['Width (m)'], y =md['Height (m)'], data = md, kind = 'hex', gridsize = 8);"
      ],
      "execution_count": 18,
      "outputs": [
        {
          "output_type": "display_data",
          "data": {
            "image/png": "[encoded data removed]",
            "text/plain": [
              "<Figure size 432x288 with 1 Axes>"
            ]
          },
          "metadata": {
            "tags": [],
            "needs_background": "light"
          }
        },
        {
          "output_type": "display_data",
          "data": {
            "image/png": "[encoded data removed]",
            "text/plain": [
              "<Figure size 432x432 with 3 Axes>"
            ]
          },
          "metadata": {
            "tags": [],
            "needs_background": "light"
          }
        }
      ]
    },
    {
      "cell_type": "markdown",
      "metadata": {
        "id": "vQ-6337od39d"
      },
      "source": [
        "\n",
        "\n",
        "```\n",
        "# #Very good correlation between product width and height\n",
        "#a regression can be fitted between these to impute one another\n",
        "```\n",
        "\n"
      ]
    },
    {
      "cell_type": "code",
      "metadata": {
        "id": "jNWwyByrec-l",
        "colab": {
          "base_uri": "https://localhost:8080/",
          "height": 396
        },
        "outputId": "43830078-9a42-4a42-fbf9-819c44b98106"
      },
      "source": [
        "plt.figure(figsize=(12, 6))\n",
        "heatmap = sns.heatmap(md.corr(), vmin=-1, vmax=1, annot=True)\n",
        "# Give a title to the heatmap. Pad defines the distance of the title from the top of the heatmap.\n",
        "heatmap.set_title('Correlation Heatmap', fontdict={'fontsize':12}, pad=12);"
      ],
      "execution_count": 19,
      "outputs": [
        {
          "output_type": "display_data",
          "data": {
            "image/png": "[encoded data removed]",
            "text/plain": [
              "<Figure size 864x432 with 2 Axes>"
            ]
          },
          "metadata": {
            "tags": [],
            "needs_background": "light"
          }
        }
      ]
    },
    {
      "cell_type": "markdown",
      "metadata": {
        "id": "Gg1u6iK0eFX1"
      },
      "source": [
        "\n",
        "\n",
        "```\n",
        "#there are continues numeric data with rightly skewed\n",
        "#Adaptive binning/quantizatin with rounding can be used to find data level #Quartile based binning scheme\n",
        "#help to categorized tha data numerically(labeling) and modeling(Regression/classification)\n",
        "#statistiacal tranformation Log_transform(except 0's), Box-Cox transform is also useful\n",
        "#let's first find the 0's in data\n",
        "```\n",
        "\n"
      ]
    },
    {
      "cell_type": "code",
      "metadata": {
        "id": "UeGaAdEvw3Ie",
        "colab": {
          "base_uri": "https://localhost:8080/"
        },
        "outputId": "ab7ca1cd-1a42-4887-82a6-192eba8cdc34"
      },
      "source": [
        "#now find the product id where data point is 0 in any column\n",
        "fd['Idz']=(fd == 0).astype(int).sum(axis=1)\n",
        "Id_z1=[]\n",
        "Id_z2=[] \n",
        "Id_z3=[]\n",
        "Id_z4=[]\n",
        " \n",
        "for i in range(1, 3058):\n",
        "  if fd['Idz'][i]>0:\n",
        "    if fd['Idz'][i]==4:\n",
        "      Id_z4.append(fd['Product Id'][i])\n",
        "    elif fd['Idz'][i]==3:\n",
        "      Id_z3.append(fd['Product Id'][i])\n",
        "    elif fd['Idz'][i]==2:\n",
        "      Id_z2.append(fd['Product Id'][i])\n",
        "    elif fd['Idz'][i]==1:\n",
        "      Id_z1.append(fd['Product Id'][i])\n",
        "    else:\n",
        "      continue\n",
        "  else:\n",
        "    continue\n",
        " \n",
        "print('Product Id where one(1) attribute contains 0 input')\n",
        "print(len(Id_z1))\n",
        "print(Id_z1)\n",
        "print()\n",
        "print('Product Id where two(2) attributes contains 0 input')\n",
        "print(len(Id_z2))\n",
        "print(Id_z2)\n",
        "print()\n",
        "print('Product Id where three(3) attributes contains 0 input')\n",
        "print(len(Id_z3))\n",
        "print(Id_z3)\n",
        "print()\n",
        "print('Product Id where all attributes contains 0 input')\n",
        "print(len(Id_z4))\n",
        "print(Id_z4)"
      ],
      "execution_count": 20,
      "outputs": [
        {
          "output_type": "stream",
          "text": [
            "Product Id where one(1) attribute contains 0 input\n",
            "1\n",
            "[52584]\n",
            "\n",
            "Product Id where two(2) attributes contains 0 input\n",
            "1\n",
            "[126945]\n",
            "\n",
            "Product Id where three(3) attributes contains 0 input\n",
            "13\n",
            "[50295, 51744, 54663, 68775, 68922, 75852, 80388, 83412, 84693, 85470, 91056, 121947, 126693]\n",
            "\n",
            "Product Id where all attributes contains 0 input\n",
            "1509\n",
            "[44583, 44772, 44856, 44898, 44919, 44940, 45003, 45066, 45108, 45129, 45150, 45213, 45381, 45402, 45465, 45549, 45612, 45633, 45675, 45696, 45717, 45738, 45843, 45948, 46137, 46263, 46431, 46452, 46494, 46515, 46809, 46914, 46977, 46998, 47040, 47061, 47271, 47460, 47481, 47502, 47523, 47670, 47691, 47796, 47817, 47901, 47922, 47985, 48153, 48216, 48321, 48363, 48405, 48447, 48468, 48489, 48510, 48552, 48657, 48699, 48825, 48888, 48909, 49056, 49077, 49119, 49140, 49161, 49182, 49224, 49245, 49266, 49476, 49518, 49644, 49728, 49749, 49791, 49812, 49854, 50001, 50085, 50106, 50169, 50463, 50631, 50652, 50673, 50694, 50757, 50778, 50820, 50862, 50904, 50946, 51051, 51114, 51177, 51198, 51534, 51555, 51597, 51618, 51660, 51681, 51786, 51807, 51828, 51975, 52059, 52206, 52416, 52437, 52458, 52479, 52500, 52521, 52542, 52710, 53004, 53025, 53067, 53088, 53109, 53130, 53151, 53214, 53319, 53340, 53403, 53424, 53445, 53487, 53508, 53571, 53592, 53697, 53718, 53781, 53802, 53823, 53928, 53970, 53991, 54012, 54033, 54054, 54075, 54096, 54117, 54138, 54201, 54222, 54264, 54327, 54348, 54432, 54453, 54474, 54495, 54516, 54537, 54558, 54579, 54600, 54621, 54642, 54705, 54726, 54789, 54810, 54831, 54852, 54873, 54894, 54936, 54957, 54999, 55062, 55083, 55104, 55146, 55167, 55209, 55230, 55251, 55272, 55293, 55314, 55335, 55356, 55440, 55461, 55524, 55734, 55755, 55944, 55965, 56154, 56175, 56196, 56238, 56322, 56343, 56406, 56490, 56574, 56595, 56616, 56637, 56658, 56679, 56700, 56721, 56826, 56847, 56868, 56889, 56931, 56973, 57057, 57078, 57120, 57162, 57204, 57267, 57309, 57351, 57393, 57456, 57561, 57645, 57771, 57918, 58065, 58191, 58296, 58380, 58569, 58611, 58632, 58653, 58716, 58737, 58758, 58800, 58863, 58926, 58989, 59094, 59115, 59262, 59283, 59304, 59325, 59346, 59367, 59409, 59493, 59619, 59640, 59682, 59745, 59766, 59787, 59934, 59976, 60018, 60081, 60123, 60144, 60228, 60354, 60375, 60438, 60480, 60501, 60606, 60648, 60753, 60774, 60837, 60921, 61005, 61026, 61047, 61068, 61089, 61110, 61236, 61341, 61362, 61383, 61404, 61425, 61446, 61467, 61509, 61572, 61593, 61635, 61698, 61719, 61740, 61761, 61782, 61803, 61824, 61845, 61866, 61887, 61929, 62013, 62034, 62055, 62118, 62139, 62223, 62244, 62265, 62391, 62412, 62433, 62454, 62475, 62496, 62538, 62559, 62580, 62811, 62832, 62937, 63042, 63126, 63147, 63168, 63189, 63231, 63252, 63294, 63315, 63336, 63357, 63399, 63420, 63441, 63504, 63525, 63546, 63567, 63588, 63630, 63651, 63672, 63693, 63714, 63735, 63756, 63777, 63798, 63819, 63840, 63861, 63882, 63903, 63924, 63987, 64008, 64029, 64071, 64092, 64113, 64134, 64155, 64176, 64218, 64239, 64260, 64281, 64302, 64323, 64344, 64365, 64386, 64407, 64428, 64449, 64491, 64512, 64575, 64596, 64617, 64638, 64659, 64680, 64701, 64722, 64743, 64764, 64785, 64806, 64827, 64848, 64869, 64890, 64911, 64932, 65016, 65058, 65100, 65268, 65310, 65331, 65373, 65520, 65541, 65562, 65583, 65604, 65751, 65814, 66045, 66192, 66213, 66276, 66423, 66444, 66465, 66486, 66507, 66528, 66549, 66570, 66591, 66612, 66633, 66654, 66675, 66696, 66717, 66738, 66759, 66780, 66801, 66822, 66885, 66906, 66927, 66969, 66990, 67011, 67032, 67053, 67074, 67095, 67116, 67137, 67158, 67179, 67200, 67221, 67242, 67263, 67284, 67326, 67347, 67431, 67452, 67473, 67494, 67515, 67536, 67557, 67620, 67641, 67662, 67683, 67767, 67788, 67809, 67830, 67851, 68061, 68166, 68313, 68355, 68376, 68397, 68418, 68439, 68460, 68544, 68565, 68649, 68733, 68754, 68796, 68880, 68964, 69006, 69027, 69069, 69090, 69111, 69132, 69216, 69237, 69258, 69279, 69300, 69321, 69363, 69384, 69426, 69447, 69468, 69510, 69720, 69741, 69783, 69804, 69846, 69867, 69888, 69909, 69930, 69951, 70161, 70224, 70245, 70266, 70308, 70329, 70350, 70371, 70392, 70413, 70434, 70455, 70476, 70497, 70518, 70560, 70581, 70728, 70833, 70896, 70938, 71001, 71043, 71064, 71085, 71211, 71232, 71253, 71358, 71421, 71442, 71463, 71484, 71505, 71526, 71547, 71568, 71610, 71631, 71715, 71736, 71757, 71799, 71820, 71841, 71862, 71925, 71967, 71988, 72009, 72030, 72051, 72072, 72135, 72156, 72324, 72450, 72471, 72492, 72513, 72660, 72723, 72786, 72807, 72849, 72870, 72933, 72954, 73059, 73080, 73122, 73143, 73164, 73185, 73206, 73227, 73248, 73290, 73332, 73353, 73374, 73395, 73416, 73437, 73458, 73479, 73500, 73521, 73563, 73605, 73626, 73668, 73689, 73710, 73731, 73752, 73773, 73794, 73815, 73836, 73857, 73878, 73899, 73941, 73962, 73983, 74004, 74025, 74067, 74088, 74109, 74130, 74151, 74172, 74193, 74214, 74235, 74256, 74277, 74319, 74340, 74361, 74424, 74445, 74466, 74508, 74592, 74613, 74655, 74676, 74697, 74718, 74739, 74781, 74802, 74823, 74844, 74886, 74907, 74970, 74991, 75180, 75201, 75222, 75243, 75348, 75369, 75390, 75411, 75432, 75453, 75474, 75495, 75516, 75558, 75579, 75684, 75705, 75768, 75789, 75810, 75831, 75894, 75915, 75936, 75957, 75978, 75999, 76020, 76041, 76188, 76230, 76251, 76293, 76314, 76335, 76461, 76482, 76608, 76692, 76734, 76818, 76860, 76881, 76902, 76923, 76965, 77028, 77217, 77238, 77280, 77343, 77385, 77406, 77427, 77448, 77469, 77490, 77511, 77553, 77574, 77595, 77616, 77679, 77742, 77763, 77952, 77973, 77994, 78015, 78036, 78057, 78078, 78099, 78183, 78246, 78267, 78288, 78309, 78330, 78351, 78372, 78393, 78435, 78477, 78519, 78540, 78582, 78771, 78855, 78876, 78897, 78918, 78981, 79002, 79023, 79044, 79065, 79086, 79107, 79128, 79149, 79170, 79191, 79212, 79233, 79254, 79275, 79422, 79464, 79485, 79506, 79569, 79590, 79611, 79632, 79653, 79674, 79695, 79716, 79737, 79779, 79800, 79863, 79905, 79968, 79989, 80052, 80094, 80115, 80136, 80157, 80178, 80220, 80241, 80262, 80304, 80409, 80451, 80472, 80493, 80535, 80724, 80766, 80829, 80850, 80871, 80892, 80913, 80934, 80955, 80976, 80997, 81018, 81060, 81081, 81144, 81165, 81186, 81228, 81354, 81375, 81438, 81501, 81522, 81543, 81564, 81585, 81606, 81627, 81648, 81669, 81690, 81711, 81732, 81753, 81774, 81942, 81963, 82005, 82026, 82089, 82152, 82278, 82488, 82509, 82572, 82593, 82635, 82740, 82761, 82866, 82950, 82971, 83097, 83391, 83454, 83475, 83496, 83517, 83538, 83580, 83601, 83643, 83685, 83706, 83748, 83853, 83895, 83916, 83958, 84042, 84063, 84105, 84126, 84147, 84168, 84189, 84210, 84252, 84273, 84294, 84315, 84336, 84357, 84378, 84399, 84420, 84441, 84483, 84504, 84588, 84609, 84630, 84651, 84672, 84714, 84735, 84756, 84777, 84798, 84819, 84840, 84861, 84882, 85029, 85092, 85134, 85239, 85260, 85281, 85302, 85323, 85344, 85428, 85449, 85491, 85512, 85533, 85554, 85659, 85680, 85785, 85848, 85869, 85890, 85932, 85953, 85974, 86037, 86079, 86100, 86142, 86331, 86352, 86415, 86436, 86541, 86562, 86667, 86688, 86709, 86730, 86751, 86772, 86793, 86814, 86835, 86856, 86877, 86919, 86961, 87045, 87255, 87297, 87318, 87339, 87360, 87381, 87402, 87507, 87528, 87549, 87612, 87633, 87654, 87696, 87717, 87738, 87759, 87780, 87801, 87822, 87843, 87864, 87927, 87948, 88032, 88074, 88200, 88242, 88284, 88389, 88431, 88473, 88494, 88515, 88536, 88557, 88599, 88641, 88683, 88704, 88725, 88746, 88767, 88788, 88809, 88830, 88851, 88872, 88893, 88914, 88935, 88956, 88977, 88998, 89019, 89040, 89061, 89082, 89103, 89124, 89145, 89166, 89229, 89250, 89271, 89292, 89313, 89334, 89355, 89376, 89397, 89418, 89439, 89460, 89481, 89502, 89523, 89544, 89565, 89586, 89817, 89838, 89859, 89880, 89901, 90237, 90258, 90279, 90468, 90489, 90510, 90531, 90552, 90573, 90594, 90615, 90636, 90657, 90678, 90699, 90720, 90741, 90762, 90783, 90804, 90846, 90888, 90909, 90930, 90951, 90972, 90993, 91035, 91098, 91119, 91140, 91161, 91182, 91203, 91224, 91266, 91287, 91392, 91434, 91476, 91497, 91518, 91623, 91665, 91686, 91707, 91728, 91749, 91791, 92001, 92043, 92064, 92085, 92127, 92211, 92253, 92295, 92316, 92337, 92379, 92400, 92421, 92442, 92463, 92505, 92526, 92547, 92568, 92673, 92694, 92736, 92778, 92883, 92904, 92925, 92967, 93009, 93093, 93324, 93345, 93366, 93387, 93408, 93429, 93450, 93471, 93492, 93513, 93534, 93576, 93597, 93618, 93702, 93723, 93807, 93849, 93891, 93912, 93954, 93975, 94017, 94122, 94143, 94164, 94206, 94437, 94458, 94500, 94521, 94542, 94563, 94647, 94668, 94710, 94731, 94752, 94794, 94815, 94836, 94857, 94878, 94899, 94941, 94962, 94983, 95004, 95025, 95088, 95109, 95151, 95172, 95193, 95235, 95256, 95277, 95298, 95319, 95340, 95529, 95592, 95613, 95634, 95697, 95718, 95781, 95802, 95823, 95844, 95865, 95886, 95907, 95949, 96012, 96075, 96117, 96138, 96180, 96201, 96285, 96432, 96474, 96558, 96600, 96621, 117453, 117516, 117537, 117558, 117621, 117663, 117684, 117705, 117726, 117768, 117831, 117852, 117873, 118104, 118209, 118314, 118335, 118356, 118419, 118461, 118503, 118629, 118734, 118755, 118776, 118818, 118839, 118860, 118881, 118902, 118923, 118944, 118965, 118986, 119007, 119028, 119091, 119112, 119133, 119154, 119175, 119196, 119217, 119238, 119259, 119280, 119301, 119322, 119364, 119427, 119448, 119490, 119553, 119595, 119658, 119679, 119700, 119721, 119742, 119763, 119784, 119805, 119826, 119847, 119868, 119889, 119910, 119931, 119952, 119973, 119994, 120015, 120036, 120057, 120078, 120099, 120120, 120141, 120162, 120183, 120204, 120225, 120246, 120267, 120288, 120309, 120330, 120351, 120372, 120393, 120414, 120435, 120456, 120477, 120498, 120519, 120540, 120561, 120582, 120603, 120624, 120645, 120666, 120687, 120708, 120771, 120792, 120834, 121044, 121065, 121107, 121149, 121170, 121191, 121275, 121296, 121338, 121359, 121380, 121401, 121422, 121443, 121464, 121485, 121506, 121548, 121569, 121590, 121611, 121632, 121653, 121695, 121779, 121968, 122031, 122073, 122094, 122157, 122262, 122304, 122388, 122409, 122430, 122451, 122472, 122493, 122535, 122556, 122577, 122598, 122619, 122640, 122661, 122682, 122766, 122787, 122829, 122850, 122892, 122955, 123123, 123144, 123165, 123207, 123228, 123249, 123270, 123312, 123354, 123375, 123396, 123438, 123501, 123606, 123627, 123648, 123669, 123732, 123753, 123774, 123795, 123816, 123837, 123858, 123879, 123921, 124236, 124257, 124278, 124299, 124320, 124341, 124404, 124446, 124572, 124614, 124719, 124740, 124761, 124782, 124803, 124824, 124866, 124887, 124908, 124950, 124992, 125013, 125034, 125076, 125097, 125139, 125223, 125244, 125265, 125286, 125307, 125328, 125349, 125370, 125391, 125412, 125433, 125454, 125475, 125496, 125517, 125538, 125559, 125601, 125622, 125643, 125664, 125706, 125727, 125748, 125811, 125832, 125853, 125874, 125895, 125916, 125958, 125979, 126000, 126021, 126042, 126063, 126084, 126105, 126126, 126336, 126378, 126399, 126420, 126525, 126546, 126567, 126630, 126714, 126735, 126756, 126777, 126798, 126819, 126840, 126861, 126882, 126903, 126924, 127050, 127218, 127239, 127260, 127302, 127344, 127365, 127491, 127638, 127743, 127764, 127785, 127806, 127827, 127974, 128163, 128184, 128205, 128499, 128730, 128751, 128877, 128961, 129003, 129045, 129066, 129108, 129150, 129213, 129297]\n"
          ],
          "name": "stdout"
        }
      ]
    },
    {
      "cell_type": "code",
      "metadata": {
        "id": "j-q9fe5F--3B",
        "colab": {
          "base_uri": "https://localhost:8080/"
        },
        "outputId": "f8ee249f-cc77-4f3e-c279-e26be29b9837"
      },
      "source": [
        "#number of 0's in Weight column\n",
        "wz=(fd['Weight (kg)'] == 0).astype(int).sum(axis=0)\n",
        "print('number of 0s in weight column',wz)\n",
        "\n",
        "#number of 0's in Length column\n",
        "lz=(fd['Length (m)'] == 0).astype(int).sum(axis=0)\n",
        "print('number of 0s in Length column',lz)\n",
        "\n",
        "#number of 0's in Width column\n",
        "wiz=(fd['Width (m)'] == 0).astype(int).sum(axis=0)\n",
        "print('number of 0s in Width column',wiz)\n",
        "\n",
        "#number of 0's in Height column\n",
        "hz=(fd['Height (m)'] == 0).astype(int).sum(axis=0)\n",
        "print('number of 0s in Height column',hz)\n",
        "print()\n",
        "#lets count percentage for 0 inputted data in a column\n",
        "print('weight missing percentage {} %'.format(round(wz*100/3058,2)))\n",
        "print('Length missing percentage {} %'.format(round(lz*100/3058,2)))\n",
        "print('Width missing percentage {} %'.format(round(wiz*100/3058,2)))\n",
        "print('Height missing percentage {} %'.format(round(hz*100/3058,2)))\n",
        "\n",
        "#All Product id with NA, wrong_string_inp and wrong numeric input except outliers\n",
        "#can be found empirically, domain knowledge is needed!\n",
        "Id_All=set(Id_N+Id+Id_z1+Id_z2+Id_z3+Id_z4)\n",
        "\n",
        "#number of unique_id\n",
        "print(len(set(Id_All)))\n",
        "#print(list(Id_All))"
      ],
      "execution_count": 21,
      "outputs": [
        {
          "output_type": "stream",
          "text": [
            "number of 0s in weight column 1511\n",
            "number of 0s in Length column 1521\n",
            "number of 0s in Width column 1523\n",
            "number of 0s in Height column 1523\n",
            "\n",
            "weight missing percentage 49.41 %\n",
            "Length missing percentage 49.74 %\n",
            "Width missing percentage 49.8 %\n",
            "Height missing percentage 49.8 %\n",
            "1560\n"
          ],
          "name": "stdout"
        }
      ]
    },
    {
      "cell_type": "markdown",
      "metadata": {
        "id": "7Edbht6ZLr3s"
      },
      "source": [
        "\n",
        "\n",
        "```#Almost half of the data is missing\n",
        "#A three factors anova test can be performed with non-missing data,\n",
        "# finding the one dependent and three indpendent variables and identify the group states from all combination of three factors \n",
        "#to test which groups are non-similar or significance is higher, which is the percentages of randomly probable outcome, \n",
        "#if p is smaller than alpha then simple throw the test data and try to test non similar sample of groups,\n",
        "# we'll add noise in the next section to add/augment or introduce variation and maximized MSE, \n",
        "#Modeling with these non-missing data might be used to impute dependent variable, \n",
        "#A k means with all data to find the number of product clusters, knn with small missing data, XGBoost could be applied!\n",
        "```\n",
        "\n"
      ]
    },
    {
      "cell_type": "code",
      "metadata": {
        "id": "EvNCdhbUCtDF",
        "colab": {
          "base_uri": "https://localhost:8080/"
        },
        "outputId": "d682cb64-d2a3-45b1-e1eb-35ce233e237e"
      },
      "source": [
        "#md dataset already imputed for primarily\n",
        "#nan, and wrong string/alphanumeric issues\n",
        "#only 0's are exist\n",
        "md1=md.copy()\n",
        "\n",
        "#fill all zero values with nan median imputed version\n",
        "md2=md[[\"Weight (kg)\",\"Length (m)\",\"Width (m)\",\"Height (m)\"]].astype(str).replace('0.0',np.nan)\n",
        "\n",
        "#fill all zero values with nan values knn imputed version\n",
        "nd1=nd[[\"Weight (kg)\",\"Length (m)\",\"Width (m)\",\"Height (m)\"]].astype(str).replace('0.0',np.nan)\n",
        "nd1=nd1.astype(float)\n",
        "\n",
        "\n",
        "md3=md2.copy()\n",
        "nD=md2.copy()\n",
        "mds=md2.astype(float)\n",
        "\n",
        "cc=md1.isnull().sum()\n",
        "print(cc)\n"
      ],
      "execution_count": 22,
      "outputs": [
        {
          "output_type": "stream",
          "text": [
            "Product Id     0\n",
            "Weight (kg)    0\n",
            "Length (m)     0\n",
            "Width (m)      0\n",
            "Height (m)     0\n",
            "dtype: int64\n"
          ],
          "name": "stdout"
        }
      ]
    },
    {
      "cell_type": "markdown",
      "metadata": {
        "id": "MWHlqLYTKv7X"
      },
      "source": [
        "\n",
        "\n",
        "```\n",
        " #Simple Imputer for wrong numeric data and now for 0's\n",
        " #as outlier's can be deleted we'll do Quantaization/Adaptive binning\n",
        "```\n",
        "\n"
      ]
    },
    {
      "cell_type": "code",
      "metadata": {
        "id": "ONOetecwFhXA"
      },
      "source": [
        "#let's define the function smliput for SimpleImpute\n",
        "from sklearn.impute import SimpleImputer\n",
        "from numpy import isnan\n",
        "def smlimpt(sss):\n",
        "  # split into input and output elements\n",
        "  data = sss[['Weight (kg)', 'Length (m)', 'Width (m)', 'Height (m)']].values\n",
        "  ix = [i for i in range(data.shape[1])]\n",
        "  X= data[:, ix]\n",
        "\n",
        "  # print total missing\n",
        "  cc=sss.isnull().sum()\n",
        "  print(cc)\n",
        "  print()\n",
        "\n",
        "  # define imputer\n",
        "  imputer = SimpleImputer(strategy='mean')\n",
        "  # fit on the dataset\n",
        "  imputer.fit(data)\n",
        "  # transform the dataset\n",
        "#Xtrans = imputer.transform(X)\n",
        "  data_trans = imputer.transform(data)\n",
        "  data_trans_df=pd.DataFrame(data_trans)\n",
        "  data_trans_df.columns=['Weight (kg)', 'Length (m)', 'Width (m)', 'Height (m)']\n",
        "  #print(data_trans_df.head())\n",
        "  print()\n",
        "  # print total missing\n",
        "  print('Missing: %d' % sum(isnan(data_trans).flatten()))\n",
        "  print()\n",
        "  return data_trans_df"
      ],
      "execution_count": 23,
      "outputs": []
    },
    {
      "cell_type": "code",
      "metadata": {
        "id": "SedPxKjZx2EG",
        "colab": {
          "base_uri": "https://localhost:8080/"
        },
        "outputId": "6ba73bb4-f423-47ae-9fe6-f05ebdf7947b"
      },
      "source": [
        "data_trans_df=smlimpt(md2) #median imputed wrong + 0's are mean imputed SimpleImputer\n",
        "print(data_trans_df.head())"
      ],
      "execution_count": 24,
      "outputs": [
        {
          "output_type": "stream",
          "text": [
            "Weight (kg)    1511\n",
            "Length (m)     1521\n",
            "Width (m)      1523\n",
            "Height (m)     1523\n",
            "dtype: int64\n",
            "\n",
            "\n",
            "Missing: 0\n",
            "\n",
            "   Weight (kg)  Length (m)  Width (m)  Height (m)\n",
            "0       1.0250      0.2286     0.1524      0.0508\n",
            "1       0.5040      0.1400     0.0400      0.1600\n",
            "2       0.4880      0.1050     0.1050      0.0750\n",
            "3       1.0028      0.1100     0.1100      0.1500\n",
            "4       0.5500      0.1300     0.1300      0.1100\n"
          ],
          "name": "stdout"
        }
      ]
    },
    {
      "cell_type": "markdown",
      "metadata": {
        "id": "IOzMTsfqMnx-"
      },
      "source": [
        "#Test other transformation"
      ]
    },
    {
      "cell_type": "code",
      "metadata": {
        "id": "1J34ueuYKKiP",
        "colab": {
          "base_uri": "https://localhost:8080/",
          "height": 342
        },
        "outputId": "cf854b58-2c04-46d5-eda8-ba7a213bc8ed"
      },
      "source": [
        "#lets DATA have a try with some other transformation\n",
        "#but there was risk for assumption\n",
        "#though not permitted to delete data we'll do it for inspection\n",
        "#RobustScaler\n",
        "#model between 1st and 3rd quartie\n",
        "#outliers will be remove \n",
        "from sklearn import preprocessing\n",
        "import seaborn as sns \n",
        "import matplotlib\n",
        "% matplotlib inline\n",
        "matplotlib.style.use('fivethirtyeight')\n",
        "cols=['Weight (kg)', 'Length (m)','Width (m)','Height (m)']\n",
        "scaler = preprocessing.RobustScaler()\n",
        "robust_df = scaler.fit_transform(md2[cols])\n",
        "robust_scaled_df = pd.DataFrame(robust_df, columns =cols)\n",
        "\n",
        "#either StandarScaler or\n",
        "#MinMaxScaler\n",
        "scaler = preprocessing.StandardScaler()\n",
        "standard_df = scaler.fit_transform(robust_scaled_df) #then, apply a standard Scaler on removed outlier\n",
        "standard_df = pd.DataFrame(standard_df, columns =cols)\n",
        "\n",
        "scaler = preprocessing.MinMaxScaler()\n",
        "minmax_df = scaler.fit_transform(robust_scaled_df)\n",
        "minmax_df = pd.DataFrame(minmax_df, columns =cols)\n",
        "fig, (ax1, ax2, ax3, ax4) = plt.subplots(ncols = 4, figsize =(10, 4))\n",
        "ax1.set_title('Before Scaling')\n",
        "  \n",
        "sns.kdeplot(md['Weight (kg)'], ax = ax1, color ='r')\n",
        "sns.kdeplot(md['Length (m)'], ax = ax1, color ='b')\n",
        "sns.kdeplot(md['Width (m)'], ax = ax1, color ='g')\n",
        "sns.kdeplot(md['Height (m)'], ax = ax1, color ='y')\n",
        "ax2.set_title('After Robust Scaling')\n",
        "  \n",
        "sns.kdeplot(robust_scaled_df['Weight (kg)'], ax = ax2, color ='red')\n",
        "sns.kdeplot(robust_scaled_df['Length (m)'], ax = ax2, color ='blue')\n",
        "sns.kdeplot(robust_scaled_df['Width (m)'], ax = ax2, color ='g')\n",
        "sns.kdeplot(robust_scaled_df['Height (m)'], ax = ax2, color ='y')\n",
        "ax3.set_title('After Standard Scaling')\n",
        "  \n",
        "sns.kdeplot(standard_df['Weight (kg)'], ax = ax3, color ='black')\n",
        "sns.kdeplot(standard_df['Length (m)'], ax = ax3, color ='g')\n",
        "sns.kdeplot(standard_df['Width (m)'], ax = ax3, color ='r')\n",
        "sns.kdeplot(standard_df['Height (m)'], ax = ax3, color ='b')\n",
        "ax4.set_title('After Min-Max Scaling')\n",
        "  \n",
        "sns.kdeplot(minmax_df['Weight (kg)'], ax = ax4, color ='black')\n",
        "sns.kdeplot(minmax_df['Length (m)'], ax = ax4, color ='g')\n",
        "sns.kdeplot(minmax_df['Width (m)'], ax = ax4, color ='r')\n",
        "sns.kdeplot(minmax_df['Height (m)'], ax = ax4, color ='y')\n",
        "#plt.show()\n",
        "\n",
        "#print(robust_scaled_df.head())"
      ],
      "execution_count": 25,
      "outputs": [
        {
          "output_type": "execute_result",
          "data": {
            "text/plain": [
              "<matplotlib.axes._subplots.AxesSubplot at 0x7ff65313ee90>"
            ]
          },
          "metadata": {
            "tags": []
          },
          "execution_count": 25
        },
        {
          "output_type": "display_data",
          "data": {
            "image/png": "[encoded data removed]",
            "text/plain": [
              "<Figure size 720x288 with 4 Axes>"
            ]
          },
          "metadata": {
            "tags": []
          }
        }
      ]
    },
    {
      "cell_type": "code",
      "metadata": {
        "id": "80ANxhVikhmW",
        "colab": {
          "base_uri": "https://localhost:8080/",
          "height": 297
        },
        "outputId": "ed2395e6-ff35-4b5b-8840-0e9a0e3bc783"
      },
      "source": [
        "minmax_df.describe()\n",
        "#print(minmax_df.head())"
      ],
      "execution_count": 26,
      "outputs": [
        {
          "output_type": "execute_result",
          "data": {
            "text/html": [
              "<div>\n",
              "<style scoped>\n",
              "    .dataframe tbody tr th:only-of-type {\n",
              "        vertical-align: middle;\n",
              "    }\n",
              "\n",
              "    .dataframe tbody tr th {\n",
              "        vertical-align: top;\n",
              "    }\n",
              "\n",
              "    .dataframe thead th {\n",
              "        text-align: right;\n",
              "    }\n",
              "</style>\n",
              "<table border=\"1\" class=\"dataframe\">\n",
              "  <thead>\n",
              "    <tr style=\"text-align: right;\">\n",
              "      <th></th>\n",
              "      <th>Weight (kg)</th>\n",
              "      <th>Length (m)</th>\n",
              "      <th>Width (m)</th>\n",
              "      <th>Height (m)</th>\n",
              "    </tr>\n",
              "  </thead>\n",
              "  <tbody>\n",
              "    <tr>\n",
              "      <th>count</th>\n",
              "      <td>1547.000000</td>\n",
              "      <td>1537.000000</td>\n",
              "      <td>1535.000000</td>\n",
              "      <td>1535.000000</td>\n",
              "    </tr>\n",
              "    <tr>\n",
              "      <th>mean</th>\n",
              "      <td>0.046443</td>\n",
              "      <td>0.001372</td>\n",
              "      <td>0.008060</td>\n",
              "      <td>0.011998</td>\n",
              "    </tr>\n",
              "    <tr>\n",
              "      <th>std</th>\n",
              "      <td>0.082991</td>\n",
              "      <td>0.025683</td>\n",
              "      <td>0.025842</td>\n",
              "      <td>0.026701</td>\n",
              "    </tr>\n",
              "    <tr>\n",
              "      <th>min</th>\n",
              "      <td>0.000000</td>\n",
              "      <td>0.000000</td>\n",
              "      <td>0.000000</td>\n",
              "      <td>0.000000</td>\n",
              "    </tr>\n",
              "    <tr>\n",
              "      <th>25%</th>\n",
              "      <td>0.009832</td>\n",
              "      <td>0.000349</td>\n",
              "      <td>0.004084</td>\n",
              "      <td>0.003982</td>\n",
              "    </tr>\n",
              "    <tr>\n",
              "      <th>50%</th>\n",
              "      <td>0.024729</td>\n",
              "      <td>0.000528</td>\n",
              "      <td>0.006167</td>\n",
              "      <td>0.010046</td>\n",
              "    </tr>\n",
              "    <tr>\n",
              "      <th>75%</th>\n",
              "      <td>0.051346</td>\n",
              "      <td>0.000862</td>\n",
              "      <td>0.009084</td>\n",
              "      <td>0.017106</td>\n",
              "    </tr>\n",
              "    <tr>\n",
              "      <th>max</th>\n",
              "      <td>1.000000</td>\n",
              "      <td>1.000000</td>\n",
              "      <td>1.000000</td>\n",
              "      <td>1.000000</td>\n",
              "    </tr>\n",
              "  </tbody>\n",
              "</table>\n",
              "</div>"
            ],
            "text/plain": [
              "       Weight (kg)   Length (m)    Width (m)   Height (m)\n",
              "count  1547.000000  1537.000000  1535.000000  1535.000000\n",
              "mean      0.046443     0.001372     0.008060     0.011998\n",
              "std       0.082991     0.025683     0.025842     0.026701\n",
              "min       0.000000     0.000000     0.000000     0.000000\n",
              "25%       0.009832     0.000349     0.004084     0.003982\n",
              "50%       0.024729     0.000528     0.006167     0.010046\n",
              "75%       0.051346     0.000862     0.009084     0.017106\n",
              "max       1.000000     1.000000     1.000000     1.000000"
            ]
          },
          "metadata": {
            "tags": []
          },
          "execution_count": 26
        }
      ]
    },
    {
      "cell_type": "markdown",
      "metadata": {
        "id": "W58ptdDZMtGy"
      },
      "source": [
        "#Confidence interval for parmeter estimation"
      ]
    },
    {
      "cell_type": "code",
      "metadata": {
        "colab": {
          "base_uri": "https://localhost:8080/"
        },
        "id": "ytf-oUITd7C7",
        "outputId": "983c1c8a-dea4-4bbd-9065-7241761bede8"
      },
      "source": [
        "#let's find the range of values with 95% confidence level\n",
        "#before binning\n",
        "#may have wrong conclusion here\n",
        "#data is not properly normal as it skewed\n",
        "#check by imputed several version of the dataset\n",
        "\n",
        "import numpy as np\n",
        "import scipy.stats\n",
        "\n",
        "def mean_confidence_interval(d, confidence=0.95):\n",
        "    a = 1.0 * np.array(d)\n",
        "    n = len(a)\n",
        "    m, se = np.mean(a), scipy.stats.sem(a)\n",
        "    h = se * scipy.stats.t.ppf((1 + confidence) / 2., n-1)\n",
        "    return m, m-h, m+h\n",
        "print('sklearn_imputer')\n",
        "print(mean_confidence_interval(data_trans_df['Weight (kg)']))\n",
        "print(mean_confidence_interval(data_trans_df['Length (m)']))\n",
        "print(mean_confidence_interval(data_trans_df['Width (m)']))\n",
        "print(mean_confidence_interval(data_trans_df['Height (m)']))\n"
      ],
      "execution_count": 27,
      "outputs": [
        {
          "output_type": "stream",
          "text": [
            "sklearn_imputer\n",
            "(0.468639301874596, 0.44756871871613246, 0.48970988503305957)\n",
            "(0.2695851008458035, 0.14371358478962942, 0.3954566169019776)\n",
            "(0.09771648208469057, 0.08992815987014101, 0.10550480429924013)\n",
            "(0.13356358306188928, 0.12615348764686019, 0.14097367847691838)\n"
          ],
          "name": "stdout"
        }
      ]
    },
    {
      "cell_type": "code",
      "metadata": {
        "id": "tf4eVyvxgwNP"
      },
      "source": [
        "#we can see sklearn_imputer and minmax transformed data and knn imputed data\n",
        "#have overlapped range, data may be drawn from same population"
      ],
      "execution_count": 28,
      "outputs": []
    },
    {
      "cell_type": "code",
      "metadata": {
        "id": "f2nZdGUoeRdq",
        "colab": {
          "base_uri": "https://localhost:8080/"
        },
        "outputId": "efb18162-7dd9-407e-8840-a54f95383d3f"
      },
      "source": [
        "#Rather than anova a Rank sum test would be a better option\n",
        "#whether two independent samples were drawn from a population with the same distribution\n",
        "#Repeated tests and average to compare with population mean can be applied\n",
        "#this section will be extended future and domain knowledge is preferrable\n",
        "\n",
        "from scipy.stats import mannwhitneyu\n",
        "\n",
        "def Mann_Whitney_U_Test(x,y):\n",
        "  #random sampling for each variable with 358 samples\n",
        "  stat, p = mannwhitneyu(x,y)\n",
        "  print('Statistics=%.3f, p=%.3f' % (stat, p))\n",
        "\n",
        "# interpret\n",
        "  alpha = 0.05\n",
        "  if p > alpha:\n",
        "    print('Same distribution (fail to reject H0)')\n",
        "  else:\n",
        "    print('Different distribution (reject H0)')\n",
        "\n",
        "Mann_Whitney_U_Test(data_trans_df['Weight (kg)'].sample(358), data_trans_df['Weight (kg)'].sample(358))\n",
        "print()\n",
        "Mann_Whitney_U_Test(data_trans_df['Length (m)'].sample(358), data_trans_df['Length (m)'].sample(358))\n",
        "print()\n",
        "Mann_Whitney_U_Test(data_trans_df['Width (m)'].sample(358), data_trans_df['Width (m)'].sample(358))\n",
        "print()\n",
        "Mann_Whitney_U_Test(data_trans_df['Height (m)'].sample(358), data_trans_df['Height (m)'].sample(358))\n"
      ],
      "execution_count": 29,
      "outputs": [
        {
          "output_type": "stream",
          "text": [
            "Statistics=63916.000, p=0.475\n",
            "Same distribution (fail to reject H0)\n",
            "\n",
            "Statistics=62973.500, p=0.333\n",
            "Same distribution (fail to reject H0)\n",
            "\n",
            "Statistics=64071.000, p=0.498\n",
            "Same distribution (fail to reject H0)\n",
            "\n",
            "Statistics=62301.500, p=0.245\n",
            "Same distribution (fail to reject H0)\n"
          ],
          "name": "stdout"
        }
      ]
    },
    {
      "cell_type": "code",
      "metadata": {
        "id": "P46OZonEPHrI"
      },
      "source": [
        "#we can see Height samples has different mean ensuring data grabed from different aspects/sources\n",
        "#could be a dependent variable for classifying heights, (weights,width,length) can be independent variable\n",
        "#to find the groups combinations  of those three factors and interactions on response or height variable for Anova\n",
        "#repeated tests could outputs differnt results\n"
      ],
      "execution_count": 30,
      "outputs": []
    },
    {
      "cell_type": "code",
      "metadata": {
        "id": "0KAfEGRoF7pE",
        "colab": {
          "base_uri": "https://localhost:8080/"
        },
        "outputId": "57732694-84d6-4586-e8d3-5bfa3411bfc6"
      },
      "source": [
        " \n",
        " \n",
        "#Adaptive binning/quantization and Rounding will help in right tailed scenario \n",
        "quantile_list = [0, .10, .20, .30, .50, .75, .85, .90,.95, 1.]\n",
        "quantiles = data_trans_df['Weight (kg)'].quantile(quantile_list)\n",
        "print(quantiles)\n",
        " \n",
        "quantiles1 = data_trans_df['Length (m)'].quantile(quantile_list)\n",
        "print(quantiles1)\n",
        " \n",
        "quantiles2 = data_trans_df['Width (m)'].quantile(quantile_list)\n",
        "print(quantiles2)\n",
        " \n",
        "quantiles3 = data_trans_df['Height (m)'].quantile(quantile_list)\n",
        "print(quantiles3)"
      ],
      "execution_count": 31,
      "outputs": [
        {
          "output_type": "stream",
          "text": [
            "0.00     0.001000\n",
            "0.10     0.075700\n",
            "0.20     0.184400\n",
            "0.30     0.350000\n",
            "0.50     0.468639\n",
            "0.75     0.468639\n",
            "0.85     0.483250\n",
            "0.90     0.600000\n",
            "0.95     1.010000\n",
            "1.00    10.070000\n",
            "Name: Weight (kg), dtype: float64\n",
            "0.00      0.002000\n",
            "0.10      0.065000\n",
            "0.20      0.090000\n",
            "0.30      0.130000\n",
            "0.50      0.269585\n",
            "0.75      0.269585\n",
            "0.85      0.269585\n",
            "0.90      0.269585\n",
            "0.95      0.269585\n",
            "1.00    195.000000\n",
            "Name: Length (m), dtype: float64\n",
            "0.00     0.001000\n",
            "0.10     0.050000\n",
            "0.20     0.065000\n",
            "0.30     0.085000\n",
            "0.50     0.097716\n",
            "0.75     0.097716\n",
            "0.85     0.100000\n",
            "0.90     0.121500\n",
            "0.95     0.165100\n",
            "1.00    12.000000\n",
            "Name: Width (m), dtype: float64\n",
            "0.00     0.001000\n",
            "0.10     0.037170\n",
            "0.20     0.080000\n",
            "0.30     0.133564\n",
            "0.50     0.133564\n",
            "0.75     0.133564\n",
            "0.85     0.177800\n",
            "0.90     0.205000\n",
            "0.95     0.241555\n",
            "1.00    11.050000\n",
            "Name: Height (m), dtype: float64\n"
          ],
          "name": "stdout"
        }
      ]
    },
    {
      "cell_type": "code",
      "metadata": {
        "id": "LomfNQ9Fqtrw",
        "colab": {
          "base_uri": "https://localhost:8080/",
          "height": 332
        },
        "outputId": "975b3c45-b794-4f10-b4c4-a1cb5977d661"
      },
      "source": [
        "fig, ax = plt.subplots()\n",
        "data_trans_df['Weight (kg)'].hist(bins=30, color='#A9C5D3', \n",
        "                             edgecolor='black', grid=False)\n",
        "for quantile in quantiles:\n",
        "    qvl = plt.axvline(quantile, color='r')\n",
        "ax.legend([qvl], ['Quantiles'], fontsize=10)\n",
        "ax.set_title('Product Weight Histogram with Quantiles', \n",
        "             fontsize=12)\n",
        "ax.set_xlabel('Product Weight(kg)', fontsize=12)\n",
        "ax.set_ylabel('Frequency', fontsize=12)"
      ],
      "execution_count": 32,
      "outputs": [
        {
          "output_type": "execute_result",
          "data": {
            "text/plain": [
              "Text(0, 0.5, 'Frequency')"
            ]
          },
          "metadata": {
            "tags": []
          },
          "execution_count": 32
        },
        {
          "output_type": "display_data",
          "data": {
            "image/png": "[encoded data removed]",
            "text/plain": [
              "<Figure size 432x288 with 1 Axes>"
            ]
          },
          "metadata": {
            "tags": []
          }
        }
      ]
    },
    {
      "cell_type": "markdown",
      "metadata": {
        "id": "lC5pkywJPqrY"
      },
      "source": [
        "the red line here represent bin with potentials"
      ]
    },
    {
      "cell_type": "code",
      "metadata": {
        "id": "v0aXQd6e6RmS",
        "colab": {
          "base_uri": "https://localhost:8080/"
        },
        "outputId": "828348d6-7bae-4c4f-9f1c-3358f25fe4d5"
      },
      "source": [
        "pip install impyute"
      ],
      "execution_count": 33,
      "outputs": [
        {
          "output_type": "stream",
          "text": [
            "Collecting impyute\n",
            "  Downloading https://files.pythonhosted.org/packages/37/28/86829f67c9affb847facaab94687761d3555539ec675f7577778c5b2680a/impyute-0.0.8-py2.py3-none-any.whl\n",
            "Requirement already satisfied: numpy in /usr/local/lib/python3.7/dist-packages (from impyute) (1.19.5)\n",
            "Requirement already satisfied: scipy in /usr/local/lib/python3.7/dist-packages (from impyute) (1.4.1)\n",
            "Requirement already satisfied: scikit-learn in /usr/local/lib/python3.7/dist-packages (from impyute) (0.22.2.post1)\n",
            "Requirement already satisfied: joblib>=0.11 in /usr/local/lib/python3.7/dist-packages (from scikit-learn->impyute) (1.0.1)\n",
            "Installing collected packages: impyute\n",
            "Successfully installed impyute-0.0.8\n"
          ],
          "name": "stdout"
        }
      ]
    },
    {
      "cell_type": "code",
      "metadata": {
        "id": "fNV9gLDy6Ln1",
        "colab": {
          "base_uri": "https://localhost:8080/"
        },
        "outputId": "31cd9ffc-9c8d-43cd-c4d4-589d3b0fdaf6"
      },
      "source": [
        " \n",
        "#Multiple imputation/MICE also a great option\n",
        "from impyute.imputation.cs import mice\n",
        "imputed = mice(mds.values)\n",
        " #change value columnwise\n",
        "mice_mds=pd.DataFrame(imputed)\n",
        "mice_mds.columns=['Weight (kg)','Length (m)','Width (m)','Height (m)']\n",
        "print(mice_mds.describe())"
      ],
      "execution_count": 34,
      "outputs": [
        {
          "output_type": "stream",
          "text": [
            "       Weight (kg)   Length (m)    Width (m)   Height (m)\n",
            "count  3058.000000  3058.000000  3058.000000  3058.000000\n",
            "mean      0.468640     0.269333     0.098134     0.133816\n",
            "std       0.594258     3.550024     0.219914     0.209068\n",
            "min       0.001000    -0.454649     0.001000     0.001000\n",
            "25%       0.250000     0.105000     0.075000     0.110000\n",
            "50%       0.468640     0.269333     0.098134     0.133816\n",
            "75%       0.468640     0.269333     0.098134     0.133816\n",
            "max      10.070000   195.000000    12.000000    11.050000\n"
          ],
          "name": "stdout"
        }
      ]
    },
    {
      "cell_type": "code",
      "metadata": {
        "id": "Q6ZL3Eu-y1HJ",
        "colab": {
          "base_uri": "https://localhost:8080/"
        },
        "outputId": "1c4cef62-adf3-41cc-aa96-6a3452caab1e"
      },
      "source": [
        "#data_trans_df #median imputed + 0's mean imputed SimpleImputer\n",
        "data_trans_df1=smlimpt(nd1) #knn imputed dataset + 0's mean imputed SimpleImputer\n",
        "min_max_scaled_df=smlimpt(minmax_df) #median_imputed + min_max scaled"
      ],
      "execution_count": 35,
      "outputs": [
        {
          "output_type": "stream",
          "text": [
            "Weight (kg)    1511\n",
            "Length (m)     1523\n",
            "Width (m)      1523\n",
            "Height (m)     1523\n",
            "dtype: int64\n",
            "\n",
            "\n",
            "Missing: 0\n",
            "\n",
            "Weight (kg)    1511\n",
            "Length (m)     1521\n",
            "Width (m)      1523\n",
            "Height (m)     1523\n",
            "dtype: int64\n",
            "\n",
            "\n",
            "Missing: 0\n",
            "\n"
          ],
          "name": "stdout"
        }
      ]
    },
    {
      "cell_type": "code",
      "metadata": {
        "id": "DZzykknW73Ff"
      },
      "source": [
        "#now we can add noise to test with each version of the datset\n",
        "#knn imputed dataset for primary null and wrong string and 0's are mean imputed SimpleImputer\n",
        "#Quantile-based discretization function.\n",
        "\n",
        "a = data_trans_df1['Weight (kg)']\n",
        "b=data_trans_df1['Length (m)']\n",
        "c=data_trans_df1['Width (m)']\n",
        "d=data_trans_df1['Height (m)']\n",
        "\n",
        "#add random noise to introduce more variation\n",
        "def jitter(a_series, noise_reduction=1000000):\n",
        "    return (np.random.random(len(a_series))*a_series.std()/noise_reduction)-(a_series.std()/(2*noise_reduction))\n",
        "\n",
        "w_deciles = pd.qcut(a + jitter(a), \n",
        "                    9, labels=False)\n",
        "l_deciles = pd.qcut(b + jitter(a), 3, labels=False)\n",
        "wi_deciles = pd.qcut(c + jitter(a), 3, labels=False)\n",
        "h_deciles = pd.qcut(d + jitter(a), 4, labels=False)\n",
        "#print(w_deciles)\n",
        "#print(l_deciles)\n",
        "#print(wi_deciles)\n",
        "#print(h_deciles)"
      ],
      "execution_count": 36,
      "outputs": []
    },
    {
      "cell_type": "code",
      "metadata": {
        "id": "kUfUpp6x62Jr",
        "colab": {
          "base_uri": "https://localhost:8080/"
        },
        "outputId": "9b65ecdc-90c5-49d3-fc1b-ebeca774aa81"
      },
      "source": [
        "#concatnate to create the dataframe object\n",
        "nnd=pd.concat([w_deciles,l_deciles,wi_deciles,h_deciles], axis=1)\n",
        "#nnd=nnd.fillna(3)\n",
        "print(nnd.head())\n"
      ],
      "execution_count": 52,
      "outputs": [
        {
          "output_type": "stream",
          "text": [
            "   Weight (kg)  Length (m)  Width (m)  Height (m)\n",
            "0            8           1          2           0\n",
            "1            7           0          0           3\n",
            "2            7           0          2           0\n",
            "3            8           0          2           3\n",
            "4            7           0          2           0\n"
          ],
          "name": "stdout"
        }
      ]
    },
    {
      "cell_type": "code",
      "metadata": {
        "id": "Al7KJ0-YJxQ7",
        "colab": {
          "base_uri": "https://localhost:8080/"
        },
        "outputId": "d1a62ad6-7486-4cfb-936f-f0131b4385b3"
      },
      "source": [
        "\n",
        "from numpy import mean\n",
        "from numpy import std\n",
        "from pandas import read_csv\n",
        "from sklearn.ensemble import RandomForestClassifier\n",
        "from sklearn.impute import SimpleImputer\n",
        "from sklearn.model_selection import cross_val_score\n",
        "from sklearn.model_selection import RepeatedStratifiedKFold\n",
        "from sklearn.pipeline import Pipeline\n",
        "\n",
        "# split into input and output elements\n",
        "data = nnd.values\n",
        "ix = [i for i in range(data.shape[1]) if i != 1] \n",
        "X, y = data[:, ix], data[:, 1] #making Length dependent as it mostly dissimilar from others\n",
        "# define modeling pipeline\n",
        "model = RandomForestClassifier()\n",
        "imputer = SimpleImputer(strategy='most_frequent')\n",
        "pipeline = Pipeline(steps=[('i', imputer), ('m', model)])\n",
        "# define model evaluation\n",
        "cv = RepeatedStratifiedKFold(n_splits=20, n_repeats=3, random_state=1)\n",
        "# evaluate model\n",
        "scores = cross_val_score(pipeline, X, y, scoring='accuracy', cv=cv, n_jobs=-1)\n",
        "print('Mean Accuracy: %.3f (%.3f)' % (mean(scores), std(scores)))"
      ],
      "execution_count": 56,
      "outputs": [
        {
          "output_type": "stream",
          "text": [
            "Mean Accuracy: 0.687 (0.026)\n"
          ],
          "name": "stdout"
        }
      ]
    },
    {
      "cell_type": "markdown",
      "metadata": {
        "id": "50BOwznH8ZS6"
      },
      "source": [
        "\n",
        "\n",
        "```\n",
        "#increasing k value in KNN imputer, \n",
        "#improving accuracy\n",
        "#can be threshold by early stopping\n",
        "```\n",
        "\n"
      ]
    },
    {
      "cell_type": "code",
      "metadata": {
        "id": "3jyAAYQwa8Pa",
        "colab": {
          "base_uri": "https://localhost:8080/",
          "height": 350
        },
        "outputId": "b04644f8-342c-43e7-f396-41460cc0adbb"
      },
      "source": [
        "from numpy import mean\n",
        "from numpy import std\n",
        "from sklearn.ensemble import RandomForestClassifier\n",
        "from sklearn.impute import SimpleImputer\n",
        "from sklearn.model_selection import cross_val_score\n",
        "from sklearn.model_selection import RepeatedStratifiedKFold\n",
        "from sklearn.pipeline import Pipeline\n",
        "from matplotlib import pyplot\n",
        " \n",
        "# split into input and output elements\n",
        "data = nnd.values\n",
        "ix = [i for i in range(data.shape[1]) if i != 1]\n",
        "X, y = data[:, ix], data[:, 1] #making Length dependent\n",
        "# evaluate each strategy on the dataset\n",
        "results = list()\n",
        "strategies = ['mean', 'median', 'most_frequent', 'constant']\n",
        "for s in strategies:\n",
        "    # create the modeling pipeline\n",
        "    pipeline = Pipeline(steps=[('i', SimpleImputer(strategy=s)), ('m', RandomForestClassifier())])\n",
        "    # evaluate the model\n",
        "    cv = RepeatedStratifiedKFold(n_splits=20, n_repeats=3, random_state=1)\n",
        "    scores = cross_val_score(pipeline, X, y, scoring='accuracy', cv=cv, n_jobs=-1)\n",
        "    # store results\n",
        "    results.append(scores)\n",
        "    print('>%s %.3f (%.3f)' % (s, mean(scores), std(scores)))\n",
        "# plot model performance for comparison\n",
        "pyplot.boxplot(results, labels=strategies, showmeans=True)\n",
        "pyplot.show()"
      ],
      "execution_count": 57,
      "outputs": [
        {
          "output_type": "stream",
          "text": [
            ">mean 0.687 (0.026)\n",
            ">median 0.688 (0.026)\n",
            ">most_frequent 0.687 (0.027)\n",
            ">constant 0.687 (0.026)\n"
          ],
          "name": "stdout"
        },
        {
          "output_type": "display_data",
          "data": {
            "image/png": "[encoded data removed]",
            "text/plain": [
              "<Figure size 432x288 with 1 Axes>"
            ]
          },
          "metadata": {
            "tags": []
          }
        }
      ]
    },
    {
      "cell_type": "code",
      "metadata": {
        "id": "4ntoYpyi2Gjt"
      },
      "source": [
        "#Empirical statistical testing and changing dependent and independent variables we can predict and then impute\n",
        "#Values"
      ],
      "execution_count": 59,
      "outputs": []
    },
    {
      "cell_type": "code",
      "metadata": {
        "id": "5wNOv-KJZgN_"
      },
      "source": [
        ""
      ],
      "execution_count": null,
      "outputs": []
    }
  ]
}